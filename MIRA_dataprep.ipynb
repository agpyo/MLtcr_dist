{
 "cells": [
  {
   "cell_type": "code",
   "execution_count": 2,
   "id": "c86412ac",
   "metadata": {},
   "outputs": [],
   "source": [
    "# Data organizer\n",
    "import numpy as np\n",
    "import pandas as pd\n",
    "import tidytcells as tt\n",
    "import pickle\n",
    "import Levenshtein\n",
    "import matplotlib.pyplot as plt\n",
    "import random\n",
    "# load MIRA raw data\n",
    "filepath = 'seqs/'\n",
    "filename = 'peptide-detail'\n",
    "data = pd.read_csv(filepath + filename + '.csv')"
   ]
  },
  {
   "cell_type": "code",
   "execution_count": 3,
   "id": "17dc1988",
   "metadata": {},
   "outputs": [],
   "source": [
    "def Self_Pairs(out,d):\n",
    "    pairs = []\n",
    "    for k, seqs in enumerate(out):\n",
    "        N = len(seqs)\n",
    "        for i in range(N-1):\n",
    "            p1 = seqs[i]\n",
    "            for j in range(i+1,N):\n",
    "                p2 = seqs[j]\n",
    "                if p1[1] == p2[1]:\n",
    "                    d2 = Levenshtein.distance(p1[0],p2[0]) \n",
    "                    if d2 == d:\n",
    "                        pairs.append([k,p1[0],p1[1],p2[0],p2[1],d])\n",
    "    return pairs\n",
    "def Cross_Pairs(out_trim,d):\n",
    "    N = len(out_trim)\n",
    "    pairs = []\n",
    "    for i in range(N):\n",
    "        seqs1 = out_trim[i]\n",
    "        for j in range(i+1,N):\n",
    "            seqs2 = out_trim[j]\n",
    "            for s1 in seqs1:\n",
    "                for s2 in seqs2:\n",
    "                    if s1[1] == s2[1]:\n",
    "                        d2 = Levenshtein.distance(s1[0],s2[0])\n",
    "                        if d2 == d:\n",
    "                            pairs.append(['c',s1[0],s1[1],s2[0],s2[1],d])\n",
    "    return pairs\n",
    "def decomp_df(data):\n",
    "    ep = list(data['Epitope'])\n",
    "    s1 = list(data['Seq1'])\n",
    "    v1 = list(data['Vgene1'])\n",
    "    j1 = list(data['Jgene1'])\n",
    "    d_in = list(zip(s1,v1,j1,ep))\n",
    "    out = []\n",
    "    for i in list(set(ep)):\n",
    "        temp = []\n",
    "        for x in d_in:\n",
    "            if x[3] == i:\n",
    "                temp.append(x[:3])\n",
    "        out.append(temp)\n",
    "    return out"
   ]
  },
  {
   "cell_type": "code",
   "execution_count": null,
   "id": "22c8481f",
   "metadata": {},
   "outputs": [],
   "source": [
    "####### pair statistics ########"
   ]
  },
  {
   "cell_type": "code",
   "execution_count": 9,
   "id": "53c069fc",
   "metadata": {},
   "outputs": [
    {
     "data": {
      "text/plain": [
       "Text(0, 0.5, 'PDF')"
      ]
     },
     "execution_count": 9,
     "metadata": {},
     "output_type": "execute_result"
    },
    {
     "data": {
      "image/png": "[encoded data removed]",
      "text/plain": [
       "<Figure size 300x200 with 1 Axes>"
      ]
     },
     "metadata": {},
     "output_type": "display_data"
    }
   ],
   "source": [
    "BioID = list(data['TCR BioIdentity'])\n",
    "Epi = list(data['Amino Acids'])\n",
    "out_all = []\n",
    "for i in range(len(BioID)):\n",
    "    BID = BioID[i].split('+')\n",
    "    Ep = Epi[i]\n",
    "    out_all.append([BID[0], BID[1],BID[2],Ep]) # [CDR3b, Vgene, Jgene, epitope]\n",
    "Ep_set = list(set(Epi))\n",
    "out_sort = []\n",
    "for erp in Ep_set:\n",
    "    temp = []\n",
    "    for BBD in out_all:\n",
    "        if erp == BBD[3]:\n",
    "            temp.append((BBD[0],BBD[1],BBD[2]))\n",
    "    temp = list(set(temp))\n",
    "    out_sort.append(temp)\n",
    "L_CDR3 = []\n",
    "for i, x in enumerate(out_sort):\n",
    "    temp = [len(y[0]) for y in x]\n",
    "    L_CDR3.append(temp)\n",
    "    h, _ = np.histogram(temp,bins=list(range(25)))\n",
    "    if i == 0:\n",
    "        h_all = h\n",
    "    if i != 0:\n",
    "        h_all = h_all + h\n",
    "plt.figure(figsize=(3,2))\n",
    "plt.bar(list(range(24)),h_all/np.sum(h_all),color='k')\n",
    "plt.plot([11.5,11.5],[0,0.25],'r-')\n",
    "plt.plot([15.5,15.5],[0,0.25],'r-')\n",
    "plt.ylim([0,0.25])\n",
    "plt.xlabel('CDR3 Length')\n",
    "plt.ylabel('PDF')"
   ]
  },
  {
   "cell_type": "code",
   "execution_count": null,
   "id": "304cf411",
   "metadata": {},
   "outputs": [],
   "source": [
    "####### load resampled sequences and find pairs ########"
   ]
  },
  {
   "cell_type": "code",
   "execution_count": 10,
   "id": "e14c72e7",
   "metadata": {},
   "outputs": [
    {
     "name": "stdout",
     "output_type": "stream",
     "text": [
      "Rep 1:\n",
      "number of test self pairs: 1300\n",
      "number of test cross pairs: 462\n",
      "number of train self pairs rep 1: 3931\n",
      "number of train cross pairs rep 1: 2093\n"
     ]
    }
   ],
   "source": [
    "Rep = 15\n",
    "for r in range(1):\n",
    "    # self pairs\n",
    "    print('Rep ' + str(r+1) + ':')\n",
    "    for d in [1]:#range(1,7):\n",
    "        out_test = decomp_df(pd.read_csv('seqs/MIRA_test_seqs_' + str(r) + '.csv'))\n",
    "        #########################\n",
    "        Spairs_test =  Self_Pairs(out_test,d)\n",
    "        ep = [a[0] for a in Spairs_test]\n",
    "        s1 = [a[1] for a in Spairs_test]\n",
    "        s2 = [a[3] for a in Spairs_test]\n",
    "        dict = {'epitope': ep, 'Seq1': s1, 'Seq2': s2}\n",
    "        df = pd.DataFrame(dict)\n",
    "        df.to_csv('seqs/Pairs_MIRA_test_1000_LD_'+ str(d) + '_' + str(r) + '.csv')\n",
    "        print('number of test self pairs: ' + str(len(Spairs_test)))\n",
    "\n",
    "        Cpairs_test =  Cross_Pairs(out_test,d)\n",
    "        s1 = [a[1] for a in Cpairs_test]\n",
    "        s2 = [a[3] for a in Cpairs_test]\n",
    "        dict = { 'Seq1': s1, 'Seq2': s2}\n",
    "        df = pd.DataFrame(dict)\n",
    "        df.to_csv('Seqs/Bkg_MIRA_Pairs_test_1000_LD_'+ str(d)+ '_' + str(r) + '.csv')\n",
    "        print('number of test cross pairs: ' + str(len(Cpairs_test)))\n",
    "        ########################\n",
    "        if d == 1:\n",
    "            out_train = decomp_df(pd.read_csv('seqs/MIRA_train_seqs_'+str(r)+'.csv'))\n",
    "            Spairs_train =  Self_Pairs(out_train,d)\n",
    "            ep = [a[0] for a in Spairs_train]\n",
    "            s1 = [a[1] for a in Spairs_train]\n",
    "            s2 = [a[3] for a in Spairs_train]\n",
    "            dict = {'epitope': ep, 'Seq1': s1, 'Seq2': s2}\n",
    "            df = pd.DataFrame(dict)\n",
    "            df.to_csv('seqs/Pairs_MIRA_train_1000_LD_'+ str(d) + '_' + str(r)+'.csv')\n",
    "            print('number of train self pairs rep ' + str(r+1) + ': ' + str(len(Spairs_train)))\n",
    "\n",
    "            Cpairs_train =  Cross_Pairs(out_train,d)\n",
    "            s1 = [a[1] for a in Cpairs_train]\n",
    "            s2 = [a[3] for a in Cpairs_train]\n",
    "            dict = {'Seq1': s1, 'Seq2': s2}\n",
    "            df = pd.DataFrame(dict)\n",
    "            df.to_csv('seqs/Bkg_MIRA_Pairs_train_1000_LD_'+ str(d) + '_' + str(r)+'.csv')\n",
    "            print('number of train cross pairs rep ' + str(r+1) + ': ' + str(len(Cpairs_train)))"
   ]
  }
 ],
 "metadata": {
  "kernelspec": {
   "display_name": "Python 3 (ipykernel)",
   "language": "python",
   "name": "python3"
  },
  "language_info": {
   "codemirror_mode": {
    "name": "ipython",
    "version": 3
   },
   "file_extension": ".py",
   "mimetype": "text/x-python",
   "name": "python",
   "nbconvert_exporter": "python",
   "pygments_lexer": "ipython3",
   "version": "3.13.3"
  }
 },
 "nbformat": 4,
 "nbformat_minor": 5
}
