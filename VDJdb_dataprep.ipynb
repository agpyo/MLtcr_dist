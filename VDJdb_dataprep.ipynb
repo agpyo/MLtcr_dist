{
 "cells": [
  {
   "cell_type": "code",
   "execution_count": 2,
   "id": "74925c0f",
   "metadata": {},
   "outputs": [],
   "source": [
    "# Data organizer\n",
    "import numpy as np\n",
    "import pandas as pd\n",
    "import tidytcells as tt \n",
    "import pickle\n",
    "import Levenshtein\n",
    "import matplotlib.pyplot as plt\n",
    "import random"
   ]
  },
  {
   "cell_type": "code",
   "execution_count": 3,
   "id": "8736b7c7",
   "metadata": {},
   "outputs": [],
   "source": [
    "def Self_Pairs(out,d):\n",
    "    pairs = []\n",
    "    for k, seqs in enumerate(out):\n",
    "        N = len(seqs)\n",
    "        for i in range(N-1):\n",
    "            p1 = seqs[i]\n",
    "            for j in range(i+1,N):\n",
    "                p2 = seqs[j]\n",
    "                if p1[1] == p2[1]:\n",
    "                    d2 = Levenshtein.distance(p1[0],p2[0]) \n",
    "                    if d2 == d:\n",
    "                        pairs.append([k,p1[0],p1[1],p2[0],p2[1],d])\n",
    "    return pairs\n",
    "def Cross_Pairs(out,d):\n",
    "    out_trim = out\n",
    "    N = len(out_trim)\n",
    "    pairs = []\n",
    "    for i in range(N):\n",
    "        seqs1 = out_trim[i]\n",
    "        for j in range(i+1,N): # not counting self-pairs\n",
    "            seqs2 = out_trim[j]\n",
    "            for s1 in seqs1:\n",
    "                for s2 in seqs2:\n",
    "                    if s1[1] == s2[1]:\n",
    "                        d2 = Levenshtein.distance(s1[0],s2[0])\n",
    "                        if d2 == d:\n",
    "                            pairs.append(['c',s1[0],s1[1],s2[0],s2[1],d])\n",
    "    return pairs"
   ]
  },
  {
   "cell_type": "code",
   "execution_count": 4,
   "id": "a3ec9e0a",
   "metadata": {},
   "outputs": [],
   "source": [
    "filepath = 'seqs/'\n",
    "filename ='VDJdb_data_090624'\n",
    "data = pd.read_csv(filepath + filename + '.tsv',sep='\\t')\n",
    "data = data[data['Gene'] == 'TRB']"
   ]
  },
  {
   "cell_type": "code",
   "execution_count": 5,
   "id": "f6017b81",
   "metadata": {},
   "outputs": [
    {
     "data": {
      "text/plain": [
       "Text(0, 0.5, 'PDF')"
      ]
     },
     "execution_count": 5,
     "metadata": {},
     "output_type": "execute_result"
    },
    {
     "data": {
      "image/png": "[encoded data removed]",
      "text/plain": [
       "<Figure size 300x200 with 1 Axes>"
      ]
     },
     "metadata": {},
     "output_type": "display_data"
    }
   ],
   "source": [
    "Epi = list(data['Epitope'])\n",
    "Seqs = list(data['CDR3'])\n",
    "Vgene = list(data['V'])\n",
    "\n",
    "Epi_set = list(set(Epi))\n",
    "\n",
    "out_sort = []\n",
    "for erp in Epi_set:\n",
    "    temp = []\n",
    "    for i in range(len(Seqs)):\n",
    "        if Epi[i] == erp:# and len(Seqs[i]) >= 11 and len(Seqs[i]) <= 15:\n",
    "            temp.append((Seqs[i], Vgene[i]))\n",
    "    out_sort.append(temp)\n",
    "L_CDR3 = []\n",
    "for i, x in enumerate(out_sort):\n",
    "    temp = [len(y[0]) for y in x]\n",
    "    L_CDR3.append(temp)\n",
    "    h, _ = np.histogram(temp,bins=list(range(25)))\n",
    "    if i == 0:\n",
    "        h_all = h\n",
    "    if i != 0:\n",
    "        h_all = h_all + h\n",
    "plt.figure(figsize=(3,2))\n",
    "plt.bar(list(range(24)),h_all/np.sum(h_all),color='k')\n",
    "plt.plot([11.5,11.5],[0,0.25],'r-')\n",
    "plt.plot([15.5,15.5],[0,0.25],'r-')\n",
    "plt.ylim([0,0.25])\n",
    "plt.xlabel('CDR3 Length')\n",
    "plt.ylabel('PDF')"
   ]
  },
  {
   "cell_type": "code",
   "execution_count": 139,
   "id": "e0d9191e",
   "metadata": {},
   "outputs": [],
   "source": [
    "############"
   ]
  },
  {
   "cell_type": "code",
   "execution_count": 8,
   "id": "a17c94c2",
   "metadata": {},
   "outputs": [
    {
     "name": "stdout",
     "output_type": "stream",
     "text": [
      "d = 1 # self-pairs = 252 # cross-pairs = 73\n"
     ]
    }
   ],
   "source": [
    "MMR = 15\n",
    "Rep = 15\n",
    "for r in range(Rep):\n",
    "    out_sort_temp = [random.sample(x, min([len(x), MMR])) for x in out_sort]\n",
    "    for d in range(1,7):\n",
    "        Spairs =  Self_Pairs(out_sort_temp,d)\n",
    "        ep = [a[0] for a in Spairs]\n",
    "        s1 = [a[1] for a in Spairs]\n",
    "        s2 = [a[3] for a in Spairs]\n",
    "        g1 = [a[2] for a in Spairs]\n",
    "        g2 = [a[4] for a in Spairs]\n",
    "        LD = [a[5] for a in Spairs]\n",
    "        dict = {'epitope': ep, 'Seq1': s1, 'Seq2': s2, 'Vgene1': g1, 'Vgene2': g2, 'Levenshtein Distance': LD}\n",
    "        df = pd.DataFrame(dict)\n",
    "        df.to_csv('seqs/VDJPairs_test_LD_'+ str(d) + '_'+ str(r) + '.csv')\n",
    "        ###################################\n",
    "        Cpairs =  Cross_Pairs(out_sort_temp,d)\n",
    "        ep = [a[0] for a in Cpairs]\n",
    "        s1 = [a[1] for a in Cpairs]\n",
    "        s2 = [a[3] for a in Cpairs]\n",
    "        g1 = [a[2] for a in Cpairs]\n",
    "        g2 = [a[4] for a in Cpairs]\n",
    "        LD = [a[5] for a in Cpairs]\n",
    "        dict = {'epitope': ep, 'Seq1': s1, 'Seq2': s2, 'Vgene1': g1, 'Vgene2': g2, 'Levenshtein Distance': LD}\n",
    "        df = pd.DataFrame(dict)\n",
    "        df.to_csv('seqs/Bkg_VDJPairs_test_LD_'+ str(d) + '_'+ str(r) + '.csv')\n",
    "        print('d = ' + str(d) + ' # self-pairs = ' + str(len(Spairs)) + ' # cross-pairs = ' + str(len(Cpairs)))"
   ]
  }
 ],
 "metadata": {
  "kernelspec": {
   "display_name": "Python 3 (ipykernel)",
   "language": "python",
   "name": "python3"
  },
  "language_info": {
   "codemirror_mode": {
    "name": "ipython",
    "version": 3
   },
   "file_extension": ".py",
   "mimetype": "text/x-python",
   "name": "python",
   "nbconvert_exporter": "python",
   "pygments_lexer": "ipython3",
   "version": "3.13.3"
  }
 },
 "nbformat": 4,
 "nbformat_minor": 5
}
